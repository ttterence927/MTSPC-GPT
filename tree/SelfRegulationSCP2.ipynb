{
 "cells": [
  {
   "cell_type": "code",
   "execution_count": 1,
   "metadata": {},
   "outputs": [
    {
     "name": "stderr",
     "output_type": "stream",
     "text": [
      "C:\\Users\\ui572274\\AppData\\Roaming\\Python\\Python310\\site-packages\\dask\\dataframe\\_pyarrow_compat.py:23: UserWarning: You are using pyarrow version 10.0.1 which is known to be insecure. See https://www.cve.org/CVERecord?id=CVE-2023-47248 for further details. Please upgrade to pyarrow>=14.0.1 or install pyarrow-hotfix to patch your current version.\n",
      "  warnings.warn(\n"
     ]
    },
    {
     "name": "stdout",
     "output_type": "stream",
     "text": [
      "(1152, 200) (200,)\n"
     ]
    }
   ],
   "source": [
    "from sktime.datasets import load_from_tsfile_to_dataframe\n",
    "import numpy as np\n",
    "import pandas as pd\n",
    "\n",
    "def load_from_tsfile(file_path, return_y=True):\n",
    "    X, y = load_from_tsfile_to_dataframe(file_path)\n",
    "    X = pd.DataFrame({i: pd.Series(x) for i, x in enumerate(X.iloc[:, 0])})\n",
    "    if return_y:\n",
    "        return X, y\n",
    "    else:\n",
    "        return X\n",
    "\n",
    "\n",
    "# Test the function\n",
    "dname= 'SelfRegulationSCP2'\n",
    "file_path = f'./datasets/{dname}/{dname}_TRAIN.ts'\n",
    "X, y = load_from_tsfile(file_path)\n",
    "print(X.shape, y.shape)\n",
    "\n"
   ]
  },
  {
   "cell_type": "code",
   "execution_count": 2,
   "metadata": {},
   "outputs": [
    {
     "name": "stdout",
     "output_type": "stream",
     "text": [
      "(1152, 180) (180,)\n"
     ]
    }
   ],
   "source": [
    "file_path = f'./datasets/{dname}/{dname}_TEST.ts'\n",
    "X_test, y_test = load_from_tsfile(file_path)\n",
    "print(X_test.shape, y_test.shape)"
   ]
  },
  {
   "cell_type": "code",
   "execution_count": 3,
   "metadata": {},
   "outputs": [],
   "source": [
    "X_train  = X.transpose()"
   ]
  },
  {
   "cell_type": "markdown",
   "metadata": {},
   "source": []
  },
  {
   "cell_type": "code",
   "execution_count": 4,
   "metadata": {},
   "outputs": [],
   "source": [
    "X_test = X_test.transpose()"
   ]
  },
  {
   "cell_type": "code",
   "execution_count": 5,
   "metadata": {},
   "outputs": [],
   "source": [
    "from sklearn.preprocessing import LabelEncoder\n",
    "\n",
    "# Initialize the LabelEncoder\n",
    "label_encoder = LabelEncoder()\n",
    "\n",
    "# Fit label encoder and return encoded labels\n",
    "y = label_encoder.fit_transform(y)\n",
    "y_test = label_encoder.fit_transform(y_test)\n"
   ]
  },
  {
   "cell_type": "code",
   "execution_count": 6,
   "metadata": {},
   "outputs": [
    {
     "data": {
      "text/plain": [
       "2"
      ]
     },
     "execution_count": 6,
     "metadata": {},
     "output_type": "execute_result"
    }
   ],
   "source": [
    "num_classes = len(np.unique(y_test))\n",
    "\n",
    "num_classes"
   ]
  },
  {
   "cell_type": "code",
   "execution_count": 7,
   "metadata": {},
   "outputs": [],
   "source": [
    "import lightgbm as lgb\n",
    "import optuna\n",
    "from sklearn.metrics import accuracy_score\n",
    "\n",
    "def objective(trial):\n",
    "    param = {\n",
    "        'objective': 'binary',  # or 'multiclass' for multi-class classification\n",
    "        'metric': 'binary_logloss',  # or 'multi_logloss' for multi-class classification\n",
    "\n",
    "        'verbosity': -1,\n",
    "        'boosting_type': 'gbdt',\n",
    "        'num_leaves': trial.suggest_int('num_leaves', 2, 256),\n",
    "        'learning_rate': trial.suggest_float('learning_rate', 1e-8, 1.0, log=True),\n",
    "        'n_estimators': trial.suggest_int('n_estimators', 10, 1000),\n",
    "    }\n",
    "\n",
    "    gbm = lgb.LGBMClassifier(**param)\n",
    "    gbm.fit(X_train, y)\n",
    "    preds = gbm.predict(X_test)\n",
    "    accuracy = accuracy_score(y_test, preds)\n",
    "    return accuracy\n",
    "\n"
   ]
  },
  {
   "cell_type": "code",
   "execution_count": 9,
   "metadata": {},
   "outputs": [
    {
     "name": "stderr",
     "output_type": "stream",
     "text": [
      "\u001b[32m[I 2024-02-08 17:43:26,999]\u001b[0m A new study created in memory with name: no-name-c68997f9-c8b2-4ce9-991b-c0a2a4458328\u001b[0m\n",
      "\u001b[32m[I 2024-02-08 17:43:27,513]\u001b[0m Trial 0 finished with value: 0.5 and parameters: {'num_leaves': 54, 'learning_rate': 1.3157065213985106e-05, 'n_estimators': 534}. Best is trial 0 with value: 0.5.\u001b[0m\n",
      "\u001b[32m[I 2024-02-08 17:43:27,793]\u001b[0m Trial 1 finished with value: 0.5 and parameters: {'num_leaves': 164, 'learning_rate': 0.00015296158230257645, 'n_estimators': 183}. Best is trial 0 with value: 0.5.\u001b[0m\n",
      "\u001b[32m[I 2024-02-08 17:43:28,407]\u001b[0m Trial 2 finished with value: 0.5 and parameters: {'num_leaves': 134, 'learning_rate': 0.00019220153394893278, 'n_estimators': 683}. Best is trial 0 with value: 0.5.\u001b[0m\n",
      "\u001b[32m[I 2024-02-08 17:43:29,105]\u001b[0m Trial 3 finished with value: 0.5 and parameters: {'num_leaves': 232, 'learning_rate': 1.1598897242196882e-08, 'n_estimators': 777}. Best is trial 0 with value: 0.5.\u001b[0m\n",
      "\u001b[32m[I 2024-02-08 17:43:29,286]\u001b[0m Trial 4 finished with value: 0.46111111111111114 and parameters: {'num_leaves': 249, 'learning_rate': 0.8483472967867005, 'n_estimators': 130}. Best is trial 0 with value: 0.5.\u001b[0m\n",
      "\u001b[32m[I 2024-02-08 17:43:29,758]\u001b[0m Trial 5 finished with value: 0.4777777777777778 and parameters: {'num_leaves': 165, 'learning_rate': 0.0005039085903445713, 'n_estimators': 570}. Best is trial 0 with value: 0.5.\u001b[0m\n",
      "\u001b[32m[I 2024-02-08 17:43:30,311]\u001b[0m Trial 6 finished with value: 0.5 and parameters: {'num_leaves': 23, 'learning_rate': 8.353298291751469e-05, 'n_estimators': 579}. Best is trial 0 with value: 0.5.\u001b[0m\n",
      "\u001b[32m[I 2024-02-08 17:43:31,160]\u001b[0m Trial 7 finished with value: 0.4888888888888889 and parameters: {'num_leaves': 54, 'learning_rate': 0.023765984402267074, 'n_estimators': 886}. Best is trial 0 with value: 0.5.\u001b[0m\n",
      "\u001b[32m[I 2024-02-08 17:43:31,609]\u001b[0m Trial 8 finished with value: 0.5 and parameters: {'num_leaves': 24, 'learning_rate': 0.010063328931588785, 'n_estimators': 452}. Best is trial 0 with value: 0.5.\u001b[0m\n",
      "\u001b[32m[I 2024-02-08 17:43:32,208]\u001b[0m Trial 9 finished with value: 0.5 and parameters: {'num_leaves': 186, 'learning_rate': 7.330992461134733e-08, 'n_estimators': 647}. Best is trial 0 with value: 0.5.\u001b[0m\n",
      "\u001b[32m[I 2024-02-08 17:43:32,520]\u001b[0m Trial 10 finished with value: 0.5 and parameters: {'num_leaves': 81, 'learning_rate': 6.247335104009716e-07, 'n_estimators': 365}. Best is trial 0 with value: 0.5.\u001b[0m\n",
      "\u001b[32m[I 2024-02-08 17:43:32,639]\u001b[0m Trial 11 finished with value: 0.5 and parameters: {'num_leaves': 105, 'learning_rate': 4.612091035815799e-06, 'n_estimators': 36}. Best is trial 0 with value: 0.5.\u001b[0m\n",
      "\u001b[32m[I 2024-02-08 17:43:33,007]\u001b[0m Trial 12 finished with value: 0.5 and parameters: {'num_leaves': 145, 'learning_rate': 9.53291239224732e-06, 'n_estimators': 260}. Best is trial 0 with value: 0.5.\u001b[0m\n",
      "\u001b[32m[I 2024-02-08 17:43:33,421]\u001b[0m Trial 13 finished with value: 0.5277777777777778 and parameters: {'num_leaves': 203, 'learning_rate': 0.002417909790648503, 'n_estimators': 281}. Best is trial 13 with value: 0.5277777777777778.\u001b[0m\n",
      "\u001b[32m[I 2024-02-08 17:43:34,177]\u001b[0m Trial 14 finished with value: 0.4722222222222222 and parameters: {'num_leaves': 213, 'learning_rate': 0.004580648279917623, 'n_estimators': 382}. Best is trial 13 with value: 0.5277777777777778.\u001b[0m\n",
      "\u001b[32m[I 2024-02-08 17:43:34,372]\u001b[0m Trial 15 finished with value: 0.49444444444444446 and parameters: {'num_leaves': 86, 'learning_rate': 0.6979777099898622, 'n_estimators': 303}. Best is trial 13 with value: 0.5277777777777778.\u001b[0m\n",
      "\u001b[32m[I 2024-02-08 17:43:34,727]\u001b[0m Trial 16 finished with value: 0.5166666666666667 and parameters: {'num_leaves': 5, 'learning_rate': 1.0617958110860339e-05, 'n_estimators': 446}. Best is trial 13 with value: 0.5277777777777778.\u001b[0m\n",
      "\u001b[32m[I 2024-02-08 17:43:35,185]\u001b[0m Trial 17 finished with value: 0.5333333333333333 and parameters: {'num_leaves': 201, 'learning_rate': 0.0014448655590219915, 'n_estimators': 461}. Best is trial 17 with value: 0.5333333333333333.\u001b[0m\n",
      "\u001b[32m[I 2024-02-08 17:43:35,558]\u001b[0m Trial 18 finished with value: 0.4722222222222222 and parameters: {'num_leaves': 209, 'learning_rate': 0.0623327871967893, 'n_estimators': 211}. Best is trial 17 with value: 0.5333333333333333.\u001b[0m\n",
      "\u001b[32m[I 2024-02-08 17:43:36,419]\u001b[0m Trial 19 finished with value: 0.49444444444444446 and parameters: {'num_leaves': 196, 'learning_rate': 0.0016458984408394123, 'n_estimators': 995}. Best is trial 17 with value: 0.5333333333333333.\u001b[0m\n",
      "\u001b[32m[I 2024-02-08 17:43:36,600]\u001b[0m Trial 20 finished with value: 0.5055555555555555 and parameters: {'num_leaves': 256, 'learning_rate': 0.0014453829037264848, 'n_estimators': 47}. Best is trial 17 with value: 0.5333333333333333.\u001b[0m\n",
      "\u001b[32m[I 2024-02-08 17:43:37,242]\u001b[0m Trial 21 finished with value: 0.5 and parameters: {'num_leaves': 172, 'learning_rate': 2.5954786489850232e-05, 'n_estimators': 429}. Best is trial 17 with value: 0.5333333333333333.\u001b[0m\n",
      "\u001b[32m[I 2024-02-08 17:43:37,606]\u001b[0m Trial 22 finished with value: 0.5111111111111111 and parameters: {'num_leaves': 6, 'learning_rate': 1.199664463336778e-06, 'n_estimators': 300}. Best is trial 17 with value: 0.5333333333333333.\u001b[0m\n",
      "\u001b[32m[I 2024-02-08 17:43:38,137]\u001b[0m Trial 23 finished with value: 0.4722222222222222 and parameters: {'num_leaves': 105, 'learning_rate': 0.11967458196983766, 'n_estimators': 487}. Best is trial 17 with value: 0.5333333333333333.\u001b[0m\n",
      "\u001b[32m[I 2024-02-08 17:43:38,645]\u001b[0m Trial 24 finished with value: 0.4777777777777778 and parameters: {'num_leaves': 220, 'learning_rate': 0.0007372318539957481, 'n_estimators': 377}. Best is trial 17 with value: 0.5333333333333333.\u001b[0m\n",
      "\u001b[32m[I 2024-02-08 17:43:39,586]\u001b[0m Trial 25 finished with value: 0.5 and parameters: {'num_leaves': 145, 'learning_rate': 0.004721170787170784, 'n_estimators': 674}. Best is trial 17 with value: 0.5333333333333333.\u001b[0m\n",
      "\u001b[32m[I 2024-02-08 17:43:39,870]\u001b[0m Trial 26 finished with value: 0.5 and parameters: {'num_leaves': 234, 'learning_rate': 0.00010606139000667705, 'n_estimators': 112}. Best is trial 17 with value: 0.5333333333333333.\u001b[0m\n",
      "\u001b[32m[I 2024-02-08 17:43:40,408]\u001b[0m Trial 27 finished with value: 0.5 and parameters: {'num_leaves': 184, 'learning_rate': 1.2216499613046434e-06, 'n_estimators': 337}. Best is trial 17 with value: 0.5333333333333333.\u001b[0m\n",
      "\u001b[32m[I 2024-02-08 17:43:40,957]\u001b[0m Trial 28 finished with value: 0.5 and parameters: {'num_leaves': 114, 'learning_rate': 5.248534393138286e-05, 'n_estimators': 449}. Best is trial 17 with value: 0.5333333333333333.\u001b[0m\n",
      "\u001b[32m[I 2024-02-08 17:43:41,438]\u001b[0m Trial 29 finished with value: 0.4888888888888889 and parameters: {'num_leaves': 60, 'learning_rate': 0.0005190118582908052, 'n_estimators': 494}. Best is trial 17 with value: 0.5333333333333333.\u001b[0m\n",
      "\u001b[32m[I 2024-02-08 17:43:41,959]\u001b[0m Trial 30 finished with value: 0.5 and parameters: {'num_leaves': 197, 'learning_rate': 1.2954053796163177e-05, 'n_estimators': 550}. Best is trial 17 with value: 0.5333333333333333.\u001b[0m\n",
      "\u001b[32m[I 2024-02-08 17:43:42,256]\u001b[0m Trial 31 finished with value: 0.5 and parameters: {'num_leaves': 15, 'learning_rate': 1.617940253964921e-06, 'n_estimators': 247}. Best is trial 17 with value: 0.5333333333333333.\u001b[0m\n",
      "\u001b[32m[I 2024-02-08 17:43:42,622]\u001b[0m Trial 32 finished with value: 0.5 and parameters: {'num_leaves': 38, 'learning_rate': 3.780330659921732e-06, 'n_estimators': 291}. Best is trial 17 with value: 0.5333333333333333.\u001b[0m\n",
      "\u001b[32m[I 2024-02-08 17:43:42,797]\u001b[0m Trial 33 finished with value: 0.5 and parameters: {'num_leaves': 7, 'learning_rate': 1.5572281798624712e-07, 'n_estimators': 153}. Best is trial 17 with value: 0.5333333333333333.\u001b[0m\n",
      "\u001b[32m[I 2024-02-08 17:43:43,004]\u001b[0m Trial 34 finished with value: 0.5 and parameters: {'num_leaves': 35, 'learning_rate': 6.50462269004708e-08, 'n_estimators': 208}. Best is trial 17 with value: 0.5333333333333333.\u001b[0m\n",
      "\u001b[32m[I 2024-02-08 17:43:43,240]\u001b[0m Trial 35 finished with value: 0.49444444444444446 and parameters: {'num_leaves': 4, 'learning_rate': 3.185759122794193e-07, 'n_estimators': 409}. Best is trial 17 with value: 0.5333333333333333.\u001b[0m\n",
      "\u001b[32m[I 2024-02-08 17:43:43,707]\u001b[0m Trial 36 finished with value: 0.5055555555555555 and parameters: {'num_leaves': 68, 'learning_rate': 0.00023815037620490332, 'n_estimators': 617}. Best is trial 17 with value: 0.5333333333333333.\u001b[0m\n",
      "\u001b[32m[I 2024-02-08 17:43:44,132]\u001b[0m Trial 37 finished with value: 0.5 and parameters: {'num_leaves': 39, 'learning_rate': 1.4707202887858746e-08, 'n_estimators': 516}. Best is trial 17 with value: 0.5333333333333333.\u001b[0m\n",
      "\u001b[32m[I 2024-02-08 17:43:44,656]\u001b[0m Trial 38 finished with value: 0.5 and parameters: {'num_leaves': 238, 'learning_rate': 3.082414878747574e-05, 'n_estimators': 340}. Best is trial 17 with value: 0.5333333333333333.\u001b[0m\n",
      "\u001b[32m[I 2024-02-08 17:43:45,617]\u001b[0m Trial 39 finished with value: 0.5055555555555555 and parameters: {'num_leaves': 126, 'learning_rate': 0.00021769336946770134, 'n_estimators': 741}. Best is trial 17 with value: 0.5333333333333333.\u001b[0m\n"
     ]
    },
    {
     "name": "stdout",
     "output_type": "stream",
     "text": [
      "Number of finished trials: 40\n",
      "Best trial: {'num_leaves': 201, 'learning_rate': 0.0014448655590219915, 'n_estimators': 461}\n"
     ]
    }
   ],
   "source": [
    "\n",
    "study = optuna.create_study(direction='maximize')\n",
    "study.optimize(objective, n_trials=40)\n",
    "\n",
    "print('Number of finished trials:', len(study.trials))\n",
    "print('Best trial:', study.best_trial.params)\n",
    "\n"
   ]
  },
  {
   "cell_type": "code",
   "execution_count": null,
   "metadata": {},
   "outputs": [],
   "source": []
  }
 ],
 "metadata": {
  "kernelspec": {
   "display_name": "sd",
   "language": "python",
   "name": "python3"
  },
  "language_info": {
   "codemirror_mode": {
    "name": "ipython",
    "version": 3
   },
   "file_extension": ".py",
   "mimetype": "text/x-python",
   "name": "python",
   "nbconvert_exporter": "python",
   "pygments_lexer": "ipython3",
   "version": "3.10.13"
  }
 },
 "nbformat": 4,
 "nbformat_minor": 2
}
