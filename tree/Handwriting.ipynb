{
 "cells": [
  {
   "cell_type": "code",
   "execution_count": 1,
   "metadata": {},
   "outputs": [
    {
     "name": "stderr",
     "output_type": "stream",
     "text": [
      "C:\\Users\\ui572274\\AppData\\Roaming\\Python\\Python310\\site-packages\\dask\\dataframe\\_pyarrow_compat.py:23: UserWarning: You are using pyarrow version 10.0.1 which is known to be insecure. See https://www.cve.org/CVERecord?id=CVE-2023-47248 for further details. Please upgrade to pyarrow>=14.0.1 or install pyarrow-hotfix to patch your current version.\n",
      "  warnings.warn(\n"
     ]
    },
    {
     "name": "stdout",
     "output_type": "stream",
     "text": [
      "(405, 204) (204,)\n"
     ]
    }
   ],
   "source": [
    "from sktime.datasets import load_from_tsfile_to_dataframe\n",
    "import numpy as np\n",
    "import pandas as pd\n",
    "\n",
    "def load_from_tsfile(file_path, return_y=True):\n",
    "    X, y = load_from_tsfile_to_dataframe(file_path)\n",
    "    X = pd.DataFrame({i: pd.Series(x) for i, x in enumerate(X.iloc[:, 0])})\n",
    "    if return_y:\n",
    "        return X, y\n",
    "    else:\n",
    "        return X\n",
    "\n",
    "\n",
    "# Test the function\n",
    "dname= 'Heartbeat'\n",
    "file_path = f'./datasets/{dname}/{dname}_TRAIN.ts'\n",
    "X, y = load_from_tsfile(file_path)\n",
    "print(X.shape, y.shape)\n",
    "\n"
   ]
  },
  {
   "cell_type": "code",
   "execution_count": 2,
   "metadata": {},
   "outputs": [
    {
     "name": "stdout",
     "output_type": "stream",
     "text": [
      "(405, 205) (205,)\n"
     ]
    }
   ],
   "source": [
    "file_path = f'./datasets/{dname}/{dname}_TEST.ts'\n",
    "X_test, y_test = load_from_tsfile(file_path)\n",
    "print(X_test.shape, y_test.shape)"
   ]
  },
  {
   "cell_type": "code",
   "execution_count": 3,
   "metadata": {},
   "outputs": [],
   "source": [
    "X_train  = X.transpose()"
   ]
  },
  {
   "cell_type": "markdown",
   "metadata": {},
   "source": []
  },
  {
   "cell_type": "code",
   "execution_count": 4,
   "metadata": {},
   "outputs": [],
   "source": [
    "X_test = X_test.transpose()"
   ]
  },
  {
   "cell_type": "code",
   "execution_count": 19,
   "metadata": {},
   "outputs": [],
   "source": [
    "from sklearn.preprocessing import LabelEncoder\n",
    "\n",
    "# Initialize the LabelEncoder\n",
    "label_encoder = LabelEncoder()\n",
    "\n",
    "# Fit label encoder and return encoded labels\n",
    "y = label_encoder.fit_transform(y)\n",
    "y_test = label_encoder.fit_transform(y_test)\n"
   ]
  },
  {
   "cell_type": "code",
   "execution_count": 20,
   "metadata": {},
   "outputs": [
    {
     "data": {
      "text/plain": [
       "2"
      ]
     },
     "execution_count": 20,
     "metadata": {},
     "output_type": "execute_result"
    }
   ],
   "source": [
    "num_classes = len(np.unique(y_test))\n",
    "\n",
    "num_classes"
   ]
  },
  {
   "cell_type": "code",
   "execution_count": 25,
   "metadata": {},
   "outputs": [],
   "source": [
    "import lightgbm as lgb\n",
    "import optuna\n",
    "from sklearn.metrics import accuracy_score\n",
    "\n",
    "def objective(trial):\n",
    "    param = {\n",
    "        'objective': 'binary',  # or 'multiclass' for multi-class classification\n",
    "        'metric': 'binary_logloss',  # or 'multi_logloss' for multi-class classification\n",
    "\n",
    "        'verbosity': -1,\n",
    "        'boosting_type': 'gbdt',\n",
    "        'num_leaves': trial.suggest_int('num_leaves', 2, 256),\n",
    "        'learning_rate': trial.suggest_float('learning_rate', 1e-8, 1.0, log=True),\n",
    "        'n_estimators': trial.suggest_int('n_estimators', 10, 1000),\n",
    "    }\n",
    "\n",
    "    gbm = lgb.LGBMClassifier(**param)\n",
    "    gbm.fit(X_train, y)\n",
    "    preds = gbm.predict(X_test)\n",
    "    accuracy = accuracy_score(y_test, preds)\n",
    "    return accuracy\n",
    "\n"
   ]
  },
  {
   "cell_type": "code",
   "execution_count": 26,
   "metadata": {},
   "outputs": [
    {
     "name": "stderr",
     "output_type": "stream",
     "text": [
      "\u001b[32m[I 2024-02-08 17:35:36,550]\u001b[0m A new study created in memory with name: no-name-0561413e-3bbb-4f22-a1f6-ef370dab4ae6\u001b[0m\n",
      "\u001b[32m[I 2024-02-08 17:35:36,648]\u001b[0m Trial 0 finished with value: 0.7219512195121951 and parameters: {'num_leaves': 195, 'learning_rate': 3.6524505113959014e-06, 'n_estimators': 94}. Best is trial 0 with value: 0.7219512195121951.\u001b[0m\n",
      "\u001b[32m[I 2024-02-08 17:35:36,774]\u001b[0m Trial 1 finished with value: 0.7219512195121951 and parameters: {'num_leaves': 75, 'learning_rate': 0.018094979807040723, 'n_estimators': 293}. Best is trial 0 with value: 0.7219512195121951.\u001b[0m\n",
      "\u001b[32m[I 2024-02-08 17:35:36,961]\u001b[0m Trial 2 finished with value: 0.7219512195121951 and parameters: {'num_leaves': 162, 'learning_rate': 8.040625550619272e-07, 'n_estimators': 385}. Best is trial 0 with value: 0.7219512195121951.\u001b[0m\n",
      "\u001b[32m[I 2024-02-08 17:35:37,079]\u001b[0m Trial 3 finished with value: 0.7219512195121951 and parameters: {'num_leaves': 247, 'learning_rate': 1.444303038051433e-07, 'n_estimators': 155}. Best is trial 0 with value: 0.7219512195121951.\u001b[0m\n",
      "\u001b[32m[I 2024-02-08 17:35:37,128]\u001b[0m Trial 4 finished with value: 0.7219512195121951 and parameters: {'num_leaves': 28, 'learning_rate': 0.01570654780062249, 'n_estimators': 60}. Best is trial 0 with value: 0.7219512195121951.\u001b[0m\n",
      "\u001b[32m[I 2024-02-08 17:35:37,306]\u001b[0m Trial 5 finished with value: 0.7219512195121951 and parameters: {'num_leaves': 244, 'learning_rate': 0.000464918499606721, 'n_estimators': 352}. Best is trial 0 with value: 0.7219512195121951.\u001b[0m\n",
      "\u001b[32m[I 2024-02-08 17:35:37,503]\u001b[0m Trial 6 finished with value: 0.7219512195121951 and parameters: {'num_leaves': 31, 'learning_rate': 0.0005168123878383561, 'n_estimators': 570}. Best is trial 0 with value: 0.7219512195121951.\u001b[0m\n",
      "\u001b[32m[I 2024-02-08 17:35:37,548]\u001b[0m Trial 7 finished with value: 0.7170731707317073 and parameters: {'num_leaves': 85, 'learning_rate': 0.043842793078717544, 'n_estimators': 28}. Best is trial 0 with value: 0.7219512195121951.\u001b[0m\n",
      "\u001b[32m[I 2024-02-08 17:35:37,694]\u001b[0m Trial 8 finished with value: 0.7219512195121951 and parameters: {'num_leaves': 8, 'learning_rate': 8.56304408304213e-06, 'n_estimators': 370}. Best is trial 0 with value: 0.7219512195121951.\u001b[0m\n",
      "\u001b[32m[I 2024-02-08 17:35:37,842]\u001b[0m Trial 9 finished with value: 0.7170731707317073 and parameters: {'num_leaves': 177, 'learning_rate': 0.03387282247646347, 'n_estimators': 341}. Best is trial 0 with value: 0.7219512195121951.\u001b[0m\n",
      "\u001b[32m[I 2024-02-08 17:35:38,235]\u001b[0m Trial 10 finished with value: 0.7219512195121951 and parameters: {'num_leaves': 196, 'learning_rate': 1.1741161856709641e-08, 'n_estimators': 879}. Best is trial 0 with value: 0.7219512195121951.\u001b[0m\n",
      "\u001b[32m[I 2024-02-08 17:35:38,344]\u001b[0m Trial 11 finished with value: 0.7219512195121951 and parameters: {'num_leaves': 100, 'learning_rate': 3.169167165450297e-05, 'n_estimators': 194}. Best is trial 0 with value: 0.7219512195121951.\u001b[0m\n",
      "\u001b[32m[I 2024-02-08 17:35:38,628]\u001b[0m Trial 12 finished with value: 0.7121951219512195 and parameters: {'num_leaves': 126, 'learning_rate': 0.0021680815405237088, 'n_estimators': 606}. Best is trial 0 with value: 0.7219512195121951.\u001b[0m\n",
      "\u001b[32m[I 2024-02-08 17:35:38,715]\u001b[0m Trial 13 finished with value: 0.6926829268292682 and parameters: {'num_leaves': 73, 'learning_rate': 0.3318669726762193, 'n_estimators': 197}. Best is trial 0 with value: 0.7219512195121951.\u001b[0m\n",
      "\u001b[32m[I 2024-02-08 17:35:39,002]\u001b[0m Trial 14 finished with value: 0.7219512195121951 and parameters: {'num_leaves': 213, 'learning_rate': 5.347323790542085e-06, 'n_estimators': 730}. Best is trial 0 with value: 0.7219512195121951.\u001b[0m\n",
      "\u001b[32m[I 2024-02-08 17:35:39,137]\u001b[0m Trial 15 finished with value: 0.7219512195121951 and parameters: {'num_leaves': 135, 'learning_rate': 6.572851925230975e-05, 'n_estimators': 225}. Best is trial 0 with value: 0.7219512195121951.\u001b[0m\n",
      "\u001b[32m[I 2024-02-08 17:35:39,318]\u001b[0m Trial 16 finished with value: 0.7219512195121951 and parameters: {'num_leaves': 65, 'learning_rate': 5.683675215889448e-07, 'n_estimators': 469}. Best is trial 0 with value: 0.7219512195121951.\u001b[0m\n",
      "\u001b[32m[I 2024-02-08 17:35:39,619]\u001b[0m Trial 17 finished with value: 0.7219512195121951 and parameters: {'num_leaves': 216, 'learning_rate': 4.2297274831308736e-06, 'n_estimators': 762}. Best is trial 0 with value: 0.7219512195121951.\u001b[0m\n",
      "\u001b[32m[I 2024-02-08 17:35:39,703]\u001b[0m Trial 18 finished with value: 0.7219512195121951 and parameters: {'num_leaves': 144, 'learning_rate': 6.410593002334468e-05, 'n_estimators': 96}. Best is trial 0 with value: 0.7219512195121951.\u001b[0m\n",
      "\u001b[32m[I 2024-02-08 17:35:39,902]\u001b[0m Trial 19 finished with value: 0.7219512195121951 and parameters: {'num_leaves': 100, 'learning_rate': 1.8438688810421466e-07, 'n_estimators': 485}. Best is trial 0 with value: 0.7219512195121951.\u001b[0m\n",
      "\u001b[32m[I 2024-02-08 17:35:40,297]\u001b[0m Trial 20 finished with value: 0.7219512195121951 and parameters: {'num_leaves': 207, 'learning_rate': 1.2373538998348123e-08, 'n_estimators': 939}. Best is trial 0 with value: 0.7219512195121951.\u001b[0m\n",
      "\u001b[32m[I 2024-02-08 17:35:40,582]\u001b[0m Trial 21 finished with value: 0.7219512195121951 and parameters: {'num_leaves': 151, 'learning_rate': 5.198050782511491e-06, 'n_estimators': 762}. Best is trial 0 with value: 0.7219512195121951.\u001b[0m\n",
      "\u001b[32m[I 2024-02-08 17:35:40,668]\u001b[0m Trial 22 finished with value: 0.7219512195121951 and parameters: {'num_leaves': 114, 'learning_rate': 7.810137733046641e-08, 'n_estimators': 126}. Best is trial 0 with value: 0.7219512195121951.\u001b[0m\n",
      "\u001b[32m[I 2024-02-08 17:35:41,058]\u001b[0m Trial 23 finished with value: 0.7219512195121951 and parameters: {'num_leaves': 182, 'learning_rate': 1.0879369171711281e-08, 'n_estimators': 997}. Best is trial 0 with value: 0.7219512195121951.\u001b[0m\n",
      "\u001b[32m[I 2024-02-08 17:35:41,457]\u001b[0m Trial 24 finished with value: 0.7219512195121951 and parameters: {'num_leaves': 219, 'learning_rate': 1.0909657426494496e-06, 'n_estimators': 997}. Best is trial 0 with value: 0.7219512195121951.\u001b[0m\n",
      "\u001b[32m[I 2024-02-08 17:35:41,719]\u001b[0m Trial 25 finished with value: 0.7219512195121951 and parameters: {'num_leaves': 155, 'learning_rate': 7.914507806120028e-08, 'n_estimators': 698}. Best is trial 0 with value: 0.7219512195121951.\u001b[0m\n",
      "\u001b[32m[I 2024-02-08 17:35:41,843]\u001b[0m Trial 26 finished with value: 0.7219512195121951 and parameters: {'num_leaves': 188, 'learning_rate': 7.202699194113637e-08, 'n_estimators': 116}. Best is trial 0 with value: 0.7219512195121951.\u001b[0m\n",
      "\u001b[32m[I 2024-02-08 17:35:42,296]\u001b[0m Trial 27 finished with value: 0.7219512195121951 and parameters: {'num_leaves': 234, 'learning_rate': 1.0023086902524996e-06, 'n_estimators': 998}. Best is trial 0 with value: 0.7219512195121951.\u001b[0m\n",
      "\u001b[32m[I 2024-02-08 17:35:42,629]\u001b[0m Trial 28 finished with value: 0.7219512195121951 and parameters: {'num_leaves': 229, 'learning_rate': 1.2484140638469168e-06, 'n_estimators': 864}. Best is trial 0 with value: 0.7219512195121951.\u001b[0m\n",
      "\u001b[32m[I 2024-02-08 17:35:42,771]\u001b[0m Trial 29 finished with value: 0.7219512195121951 and parameters: {'num_leaves': 170, 'learning_rate': 4.929477170834965e-08, 'n_estimators': 269}. Best is trial 0 with value: 0.7219512195121951.\u001b[0m\n",
      "\u001b[32m[I 2024-02-08 17:35:42,923]\u001b[0m Trial 30 finished with value: 0.7219512195121951 and parameters: {'num_leaves': 256, 'learning_rate': 3.3881477716552333e-07, 'n_estimators': 281}. Best is trial 0 with value: 0.7219512195121951.\u001b[0m\n",
      "\u001b[32m[I 2024-02-08 17:35:43,308]\u001b[0m Trial 31 finished with value: 0.7219512195121951 and parameters: {'num_leaves': 230, 'learning_rate': 1.7991185589449915e-06, 'n_estimators': 852}. Best is trial 0 with value: 0.7219512195121951.\u001b[0m\n",
      "\u001b[32m[I 2024-02-08 17:35:43,624]\u001b[0m Trial 32 finished with value: 0.7219512195121951 and parameters: {'num_leaves': 233, 'learning_rate': 2.4200045320144785e-05, 'n_estimators': 848}. Best is trial 0 with value: 0.7219512195121951.\u001b[0m\n",
      "\u001b[32m[I 2024-02-08 17:35:43,774]\u001b[0m Trial 33 finished with value: 0.7219512195121951 and parameters: {'num_leaves': 255, 'learning_rate': 3.5339599237948276e-08, 'n_estimators': 275}. Best is trial 0 with value: 0.7219512195121951.\u001b[0m\n",
      "\u001b[32m[I 2024-02-08 17:35:44,009]\u001b[0m Trial 34 finished with value: 0.7219512195121951 and parameters: {'num_leaves': 168, 'learning_rate': 3.1394809267921686e-07, 'n_estimators': 425}. Best is trial 0 with value: 0.7219512195121951.\u001b[0m\n",
      "\u001b[32m[I 2024-02-08 17:35:44,258]\u001b[0m Trial 35 finished with value: 0.7219512195121951 and parameters: {'num_leaves': 206, 'learning_rate': 1.6784827094294964e-07, 'n_estimators': 572}. Best is trial 0 with value: 0.7219512195121951.\u001b[0m\n",
      "\u001b[32m[I 2024-02-08 17:35:44,544]\u001b[0m Trial 36 finished with value: 0.7219512195121951 and parameters: {'num_leaves': 110, 'learning_rate': 0.0003251960218698709, 'n_estimators': 926}. Best is trial 0 with value: 0.7219512195121951.\u001b[0m\n",
      "\u001b[32m[I 2024-02-08 17:35:44,802]\u001b[0m Trial 37 finished with value: 0.7219512195121951 and parameters: {'num_leaves': 158, 'learning_rate': 2.2707467785197593e-08, 'n_estimators': 648}. Best is trial 0 with value: 0.7219512195121951.\u001b[0m\n",
      "\u001b[32m[I 2024-02-08 17:35:45,176]\u001b[0m Trial 38 finished with value: 0.7219512195121951 and parameters: {'num_leaves': 183, 'learning_rate': 8.991743836703704e-06, 'n_estimators': 787}. Best is trial 0 with value: 0.7219512195121951.\u001b[0m\n",
      "\u001b[32m[I 2024-02-08 17:35:45,225]\u001b[0m Trial 39 finished with value: 0.7219512195121951 and parameters: {'num_leaves': 140, 'learning_rate': 0.00019549499905877982, 'n_estimators': 30}. Best is trial 0 with value: 0.7219512195121951.\u001b[0m\n",
      "\u001b[32m[I 2024-02-08 17:35:45,593]\u001b[0m Trial 40 finished with value: 0.7219512195121951 and parameters: {'num_leaves': 119, 'learning_rate': 1.7956530106372327e-06, 'n_estimators': 1000}. Best is trial 0 with value: 0.7219512195121951.\u001b[0m\n",
      "\u001b[32m[I 2024-02-08 17:35:45,870]\u001b[0m Trial 41 finished with value: 0.7219512195121951 and parameters: {'num_leaves': 190, 'learning_rate': 8.029558180704391e-08, 'n_estimators': 685}. Best is trial 0 with value: 0.7219512195121951.\u001b[0m\n",
      "\u001b[32m[I 2024-02-08 17:35:46,291]\u001b[0m Trial 42 finished with value: 0.7219512195121951 and parameters: {'num_leaves': 194, 'learning_rate': 2.3474864546827874e-08, 'n_estimators': 915}. Best is trial 0 with value: 0.7219512195121951.\u001b[0m\n",
      "\u001b[32m[I 2024-02-08 17:35:46,622]\u001b[0m Trial 43 finished with value: 0.7219512195121951 and parameters: {'num_leaves': 179, 'learning_rate': 1.0915735114668817e-07, 'n_estimators': 810}. Best is trial 0 with value: 0.7219512195121951.\u001b[0m\n",
      "\u001b[32m[I 2024-02-08 17:35:46,749]\u001b[0m Trial 44 finished with value: 0.7219512195121951 and parameters: {'num_leaves': 241, 'learning_rate': 1.0047714945429587e-06, 'n_estimators': 109}. Best is trial 0 with value: 0.7219512195121951.\u001b[0m\n",
      "\u001b[32m[I 2024-02-08 17:35:47,152]\u001b[0m Trial 45 finished with value: 0.7219512195121951 and parameters: {'num_leaves': 199, 'learning_rate': 5.478153928143362e-07, 'n_estimators': 952}. Best is trial 0 with value: 0.7219512195121951.\u001b[0m\n",
      "\u001b[32m[I 2024-02-08 17:35:47,445]\u001b[0m Trial 46 finished with value: 0.7219512195121951 and parameters: {'num_leaves': 227, 'learning_rate': 2.2589336745830145e-06, 'n_estimators': 657}. Best is trial 0 with value: 0.7219512195121951.\u001b[0m\n",
      "\u001b[32m[I 2024-02-08 17:35:47,904]\u001b[0m Trial 47 finished with value: 0.7219512195121951 and parameters: {'num_leaves': 245, 'learning_rate': 1.5646664048219792e-05, 'n_estimators': 889}. Best is trial 0 with value: 0.7219512195121951.\u001b[0m\n",
      "\u001b[32m[I 2024-02-08 17:35:47,996]\u001b[0m Trial 48 finished with value: 0.7219512195121951 and parameters: {'num_leaves': 172, 'learning_rate': 3.306515225433905e-08, 'n_estimators': 162}. Best is trial 0 with value: 0.7219512195121951.\u001b[0m\n",
      "\u001b[32m[I 2024-02-08 17:35:48,075]\u001b[0m Trial 49 finished with value: 0.7219512195121951 and parameters: {'num_leaves': 222, 'learning_rate': 2.8655478172460954e-07, 'n_estimators': 71}. Best is trial 0 with value: 0.7219512195121951.\u001b[0m\n",
      "\u001b[32m[I 2024-02-08 17:35:48,274]\u001b[0m Trial 50 finished with value: 0.7219512195121951 and parameters: {'num_leaves': 252, 'learning_rate': 0.0013341210699659356, 'n_estimators': 318}. Best is trial 0 with value: 0.7219512195121951.\u001b[0m\n",
      "\u001b[32m[I 2024-02-08 17:35:48,402]\u001b[0m Trial 51 finished with value: 0.7219512195121951 and parameters: {'num_leaves': 241, 'learning_rate': 2.630774404854827e-06, 'n_estimators': 247}. Best is trial 0 with value: 0.7219512195121951.\u001b[0m\n",
      "\u001b[32m[I 2024-02-08 17:35:48,703]\u001b[0m Trial 52 finished with value: 0.7219512195121951 and parameters: {'num_leaves': 232, 'learning_rate': 2.2712791068188896e-05, 'n_estimators': 823}. Best is trial 0 with value: 0.7219512195121951.\u001b[0m\n",
      "\u001b[32m[I 2024-02-08 17:35:49,085]\u001b[0m Trial 53 finished with value: 0.7219512195121951 and parameters: {'num_leaves': 209, 'learning_rate': 8.43062978823055e-06, 'n_estimators': 852}. Best is trial 0 with value: 0.7219512195121951.\u001b[0m\n",
      "\u001b[32m[I 2024-02-08 17:35:49,222]\u001b[0m Trial 54 finished with value: 0.7219512195121951 and parameters: {'num_leaves': 256, 'learning_rate': 4.1890206813501865e-07, 'n_estimators': 253}. Best is trial 0 with value: 0.7219512195121951.\u001b[0m\n",
      "\u001b[32m[I 2024-02-08 17:35:49,404]\u001b[0m Trial 55 finished with value: 0.7219512195121951 and parameters: {'num_leaves': 256, 'learning_rate': 3.755787912887109e-08, 'n_estimators': 418}. Best is trial 0 with value: 0.7219512195121951.\u001b[0m\n",
      "\u001b[32m[I 2024-02-08 17:35:49,581]\u001b[0m Trial 56 finished with value: 0.7219512195121951 and parameters: {'num_leaves': 238, 'learning_rate': 4.383777264677569e-05, 'n_estimators': 378}. Best is trial 0 with value: 0.7219512195121951.\u001b[0m\n",
      "\u001b[32m[I 2024-02-08 17:35:49,736]\u001b[0m Trial 57 finished with value: 0.7219512195121951 and parameters: {'num_leaves': 222, 'learning_rate': 3.101952295560674e-07, 'n_estimators': 323}. Best is trial 0 with value: 0.7219512195121951.\u001b[0m\n",
      "\u001b[32m[I 2024-02-08 17:35:49,950]\u001b[0m Trial 58 finished with value: 0.7219512195121951 and parameters: {'num_leaves': 203, 'learning_rate': 1.6873395331111078e-07, 'n_estimators': 533}. Best is trial 0 with value: 0.7219512195121951.\u001b[0m\n",
      "\u001b[32m[I 2024-02-08 17:35:50,184]\u001b[0m Trial 59 finished with value: 0.7219512195121951 and parameters: {'num_leaves': 212, 'learning_rate': 3.684852964722099e-06, 'n_estimators': 412}. Best is trial 0 with value: 0.7219512195121951.\u001b[0m\n",
      "\u001b[32m[I 2024-02-08 17:35:50,482]\u001b[0m Trial 60 finished with value: 0.7219512195121951 and parameters: {'num_leaves': 80, 'learning_rate': 0.00013223447863770692, 'n_estimators': 567}. Best is trial 0 with value: 0.7219512195121951.\u001b[0m\n",
      "\u001b[32m[I 2024-02-08 17:35:50,776]\u001b[0m Trial 61 finished with value: 0.7219512195121951 and parameters: {'num_leaves': 162, 'learning_rate': 0.00028482847131210376, 'n_estimators': 618}. Best is trial 0 with value: 0.7219512195121951.\u001b[0m\n",
      "\u001b[32m[I 2024-02-08 17:35:51,030]\u001b[0m Trial 62 finished with value: 0.7219512195121951 and parameters: {'num_leaves': 161, 'learning_rate': 2.6079785493451554e-08, 'n_estimators': 450}. Best is trial 0 with value: 0.7219512195121951.\u001b[0m\n",
      "\u001b[32m[I 2024-02-08 17:35:51,294]\u001b[0m Trial 63 finished with value: 0.7121951219512195 and parameters: {'num_leaves': 130, 'learning_rate': 0.009735851688185882, 'n_estimators': 512}. Best is trial 0 with value: 0.7219512195121951.\u001b[0m\n",
      "\u001b[32m[I 2024-02-08 17:35:51,337]\u001b[0m Trial 64 finished with value: 0.7219512195121951 and parameters: {'num_leaves': 144, 'learning_rate': 0.00014924553511003294, 'n_estimators': 22}. Best is trial 0 with value: 0.7219512195121951.\u001b[0m\n",
      "\u001b[32m[I 2024-02-08 17:35:51,588]\u001b[0m Trial 65 finished with value: 0.7219512195121951 and parameters: {'num_leaves': 114, 'learning_rate': 0.0006724306010564105, 'n_estimators': 769}. Best is trial 0 with value: 0.7219512195121951.\u001b[0m\n",
      "\u001b[32m[I 2024-02-08 17:35:51,645]\u001b[0m Trial 66 finished with value: 0.7219512195121951 and parameters: {'num_leaves': 146, 'learning_rate': 0.0002574974469898166, 'n_estimators': 58}. Best is trial 0 with value: 0.7219512195121951.\u001b[0m\n",
      "\u001b[32m[I 2024-02-08 17:35:51,999]\u001b[0m Trial 67 finished with value: 0.7219512195121951 and parameters: {'num_leaves': 116, 'learning_rate': 9.682359223731273e-06, 'n_estimators': 956}. Best is trial 0 with value: 0.7219512195121951.\u001b[0m\n",
      "\u001b[32m[I 2024-02-08 17:35:52,221]\u001b[0m Trial 68 finished with value: 0.7219512195121951 and parameters: {'num_leaves': 94, 'learning_rate': 6.900686629267417e-05, 'n_estimators': 608}. Best is trial 0 with value: 0.7219512195121951.\u001b[0m\n",
      "\u001b[32m[I 2024-02-08 17:35:52,486]\u001b[0m Trial 69 finished with value: 0.7268292682926829 and parameters: {'num_leaves': 54, 'learning_rate': 0.0038855632299937878, 'n_estimators': 725}. Best is trial 69 with value: 0.7268292682926829.\u001b[0m\n",
      "\u001b[32m[I 2024-02-08 17:35:52,726]\u001b[0m Trial 70 finished with value: 0.7170731707317073 and parameters: {'num_leaves': 23, 'learning_rate': 0.007609959822502424, 'n_estimators': 682}. Best is trial 69 with value: 0.7268292682926829.\u001b[0m\n",
      "\u001b[32m[I 2024-02-08 17:35:52,872]\u001b[0m Trial 71 finished with value: 0.7073170731707317 and parameters: {'num_leaves': 190, 'learning_rate': 0.12162170139349218, 'n_estimators': 804}. Best is trial 69 with value: 0.7268292682926829.\u001b[0m\n",
      "\u001b[32m[I 2024-02-08 17:35:52,949]\u001b[0m Trial 72 finished with value: 0.7219512195121951 and parameters: {'num_leaves': 57, 'learning_rate': 0.002148916053527431, 'n_estimators': 145}. Best is trial 69 with value: 0.7268292682926829.\u001b[0m\n",
      "\u001b[32m[I 2024-02-08 17:35:53,024]\u001b[0m Trial 73 finished with value: 0.7219512195121951 and parameters: {'num_leaves': 223, 'learning_rate': 1.6128511516778172e-05, 'n_estimators': 76}. Best is trial 69 with value: 0.7268292682926829.\u001b[0m\n",
      "\u001b[32m[I 2024-02-08 17:35:53,118]\u001b[0m Trial 74 finished with value: 0.7219512195121951 and parameters: {'num_leaves': 245, 'learning_rate': 5.264885312562262e-07, 'n_estimators': 158}. Best is trial 69 with value: 0.7268292682926829.\u001b[0m\n",
      "\u001b[32m[I 2024-02-08 17:35:53,225]\u001b[0m Trial 75 finished with value: 0.7219512195121951 and parameters: {'num_leaves': 198, 'learning_rate': 0.0014359434831250244, 'n_estimators': 192}. Best is trial 69 with value: 0.7268292682926829.\u001b[0m\n",
      "\u001b[32m[I 2024-02-08 17:35:53,337]\u001b[0m Trial 76 finished with value: 0.7219512195121951 and parameters: {'num_leaves': 248, 'learning_rate': 2.710070493758247e-06, 'n_estimators': 162}. Best is trial 69 with value: 0.7268292682926829.\u001b[0m\n",
      "\u001b[32m[I 2024-02-08 17:35:53,464]\u001b[0m Trial 77 finished with value: 0.7170731707317073 and parameters: {'num_leaves': 240, 'learning_rate': 0.005019528566044211, 'n_estimators': 210}. Best is trial 69 with value: 0.7268292682926829.\u001b[0m\n",
      "\u001b[32m[I 2024-02-08 17:35:53,600]\u001b[0m Trial 78 finished with value: 0.7219512195121951 and parameters: {'num_leaves': 52, 'learning_rate': 2.314186936516676e-05, 'n_estimators': 313}. Best is trial 69 with value: 0.7268292682926829.\u001b[0m\n",
      "\u001b[32m[I 2024-02-08 17:35:53,870]\u001b[0m Trial 79 finished with value: 0.7170731707317073 and parameters: {'num_leaves': 212, 'learning_rate': 0.01852259932482764, 'n_estimators': 729}. Best is trial 69 with value: 0.7268292682926829.\u001b[0m\n",
      "\u001b[32m[I 2024-02-08 17:35:53,918]\u001b[0m Trial 80 finished with value: 0.7219512195121951 and parameters: {'num_leaves': 4, 'learning_rate': 0.0009270954724131877, 'n_estimators': 77}. Best is trial 69 with value: 0.7268292682926829.\u001b[0m\n",
      "\u001b[32m[I 2024-02-08 17:35:54,069]\u001b[0m Trial 81 finished with value: 0.7219512195121951 and parameters: {'num_leaves': 234, 'learning_rate': 7.239842609640306e-06, 'n_estimators': 222}. Best is trial 69 with value: 0.7268292682926829.\u001b[0m\n",
      "\u001b[32m[I 2024-02-08 17:35:54,196]\u001b[0m Trial 82 finished with value: 0.7219512195121951 and parameters: {'num_leaves': 215, 'learning_rate': 4.059102289765889e-06, 'n_estimators': 265}. Best is trial 69 with value: 0.7268292682926829.\u001b[0m\n",
      "\u001b[32m[I 2024-02-08 17:35:54,352]\u001b[0m Trial 83 finished with value: 0.7121951219512195 and parameters: {'num_leaves': 250, 'learning_rate': 0.004348106802107903, 'n_estimators': 348}. Best is trial 69 with value: 0.7268292682926829.\u001b[0m\n",
      "\u001b[32m[I 2024-02-08 17:35:54,682]\u001b[0m Trial 84 finished with value: 0.7219512195121951 and parameters: {'num_leaves': 238, 'learning_rate': 4.432881879371323e-05, 'n_estimators': 830}. Best is trial 69 with value: 0.7268292682926829.\u001b[0m\n",
      "\u001b[32m[I 2024-02-08 17:35:54,756]\u001b[0m Trial 85 finished with value: 0.7121951219512195 and parameters: {'num_leaves': 225, 'learning_rate': 0.7861770043530616, 'n_estimators': 381}. Best is trial 69 with value: 0.7268292682926829.\u001b[0m\n",
      "\u001b[32m[I 2024-02-08 17:35:54,882]\u001b[0m Trial 86 finished with value: 0.7219512195121951 and parameters: {'num_leaves': 232, 'learning_rate': 1.3629947157375953e-05, 'n_estimators': 239}. Best is trial 69 with value: 0.7268292682926829.\u001b[0m\n",
      "\u001b[32m[I 2024-02-08 17:35:55,094]\u001b[0m Trial 87 finished with value: 0.7219512195121951 and parameters: {'num_leaves': 208, 'learning_rate': 2.2782560086564858e-07, 'n_estimators': 506}. Best is trial 69 with value: 0.7268292682926829.\u001b[0m\n",
      "\u001b[32m[I 2024-02-08 17:35:55,260]\u001b[0m Trial 88 finished with value: 0.7219512195121951 and parameters: {'num_leaves': 218, 'learning_rate': 3.417647368441915e-05, 'n_estimators': 408}. Best is trial 69 with value: 0.7268292682926829.\u001b[0m\n",
      "\u001b[32m[I 2024-02-08 17:35:55,405]\u001b[0m Trial 89 finished with value: 0.7219512195121951 and parameters: {'num_leaves': 202, 'learning_rate': 5.1371717375494256e-08, 'n_estimators': 328}. Best is trial 69 with value: 0.7268292682926829.\u001b[0m\n",
      "\u001b[32m[I 2024-02-08 17:35:55,568]\u001b[0m Trial 90 finished with value: 0.7219512195121951 and parameters: {'num_leaves': 255, 'learning_rate': 1.1151498721032148e-07, 'n_estimators': 358}. Best is trial 69 with value: 0.7268292682926829.\u001b[0m\n",
      "\u001b[32m[I 2024-02-08 17:35:55,739]\u001b[0m Trial 91 finished with value: 0.7219512195121951 and parameters: {'num_leaves': 210, 'learning_rate': 7.479918873260735e-07, 'n_estimators': 407}. Best is trial 69 with value: 0.7268292682926829.\u001b[0m\n",
      "\u001b[32m[I 2024-02-08 17:35:55,928]\u001b[0m Trial 92 finished with value: 0.7219512195121951 and parameters: {'num_leaves': 43, 'learning_rate': 0.00011246761074538107, 'n_estimators': 541}. Best is trial 69 with value: 0.7268292682926829.\u001b[0m\n",
      "\u001b[32m[I 2024-02-08 17:35:56,204]\u001b[0m Trial 93 finished with value: 0.7219512195121951 and parameters: {'num_leaves': 159, 'learning_rate': 1.8767375301114544e-08, 'n_estimators': 461}. Best is trial 69 with value: 0.7268292682926829.\u001b[0m\n",
      "\u001b[32m[I 2024-02-08 17:35:56,476]\u001b[0m Trial 94 finished with value: 0.7219512195121951 and parameters: {'num_leaves': 72, 'learning_rate': 1.4035916816271426e-08, 'n_estimators': 443}. Best is trial 69 with value: 0.7268292682926829.\u001b[0m\n",
      "\u001b[32m[I 2024-02-08 17:35:56,707]\u001b[0m Trial 95 finished with value: 0.7219512195121951 and parameters: {'num_leaves': 148, 'learning_rate': 0.0001399112483514154, 'n_estimators': 581}. Best is trial 69 with value: 0.7268292682926829.\u001b[0m\n",
      "\u001b[32m[I 2024-02-08 17:35:56,750]\u001b[0m Trial 96 finished with value: 0.7219512195121951 and parameters: {'num_leaves': 166, 'learning_rate': 0.00016947498688396268, 'n_estimators': 13}. Best is trial 69 with value: 0.7268292682926829.\u001b[0m\n",
      "\u001b[32m[I 2024-02-08 17:35:56,960]\u001b[0m Trial 97 finished with value: 0.7219512195121951 and parameters: {'num_leaves': 140, 'learning_rate': 0.0004396952467112913, 'n_estimators': 611}. Best is trial 69 with value: 0.7268292682926829.\u001b[0m\n",
      "\u001b[32m[I 2024-02-08 17:35:57,162]\u001b[0m Trial 98 finished with value: 0.7219512195121951 and parameters: {'num_leaves': 83, 'learning_rate': 0.00030517763074030483, 'n_estimators': 549}. Best is trial 69 with value: 0.7268292682926829.\u001b[0m\n",
      "\u001b[32m[I 2024-02-08 17:35:57,400]\u001b[0m Trial 99 finished with value: 0.7219512195121951 and parameters: {'num_leaves': 125, 'learning_rate': 0.0006952574040282462, 'n_estimators': 726}. Best is trial 69 with value: 0.7268292682926829.\u001b[0m\n"
     ]
    },
    {
     "name": "stdout",
     "output_type": "stream",
     "text": [
      "Number of finished trials: 100\n",
      "Best trial: {'num_leaves': 54, 'learning_rate': 0.0038855632299937878, 'n_estimators': 725}\n"
     ]
    }
   ],
   "source": [
    "\n",
    "study = optuna.create_study(direction='maximize')\n",
    "study.optimize(objective, n_trials=100)\n",
    "\n",
    "print('Number of finished trials:', len(study.trials))\n",
    "print('Best trial:', study.best_trial.params)\n",
    "\n"
   ]
  },
  {
   "cell_type": "code",
   "execution_count": null,
   "metadata": {},
   "outputs": [],
   "source": []
  }
 ],
 "metadata": {
  "kernelspec": {
   "display_name": "sd",
   "language": "python",
   "name": "python3"
  },
  "language_info": {
   "codemirror_mode": {
    "name": "ipython",
    "version": 3
   },
   "file_extension": ".py",
   "mimetype": "text/x-python",
   "name": "python",
   "nbconvert_exporter": "python",
   "pygments_lexer": "ipython3",
   "version": "3.10.13"
  }
 },
 "nbformat": 4,
 "nbformat_minor": 2
}
