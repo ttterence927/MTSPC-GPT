{
 "cells": [
  {
   "cell_type": "code",
   "execution_count": 1,
   "metadata": {},
   "outputs": [
    {
     "name": "stderr",
     "output_type": "stream",
     "text": [
      "C:\\Users\\ui572274\\AppData\\Roaming\\Python\\Python310\\site-packages\\dask\\dataframe\\_pyarrow_compat.py:23: UserWarning: You are using pyarrow version 10.0.1 which is known to be insecure. See https://www.cve.org/CVERecord?id=CVE-2023-47248 for further details. Please upgrade to pyarrow>=14.0.1 or install pyarrow-hotfix to patch your current version.\n",
      "  warnings.warn(\n"
     ]
    },
    {
     "name": "stdout",
     "output_type": "stream",
     "text": [
      "(1152, 200) (200,)\n"
     ]
    }
   ],
   "source": [
    "from sktime.datasets import load_from_tsfile_to_dataframe\n",
    "import numpy as np\n",
    "import pandas as pd\n",
    "\n",
    "def load_from_tsfile(file_path, return_y=True):\n",
    "    X, y = load_from_tsfile_to_dataframe(file_path)\n",
    "    X = pd.DataFrame({i: pd.Series(x) for i, x in enumerate(X.iloc[:, 0])})\n",
    "    if return_y:\n",
    "        return X, y\n",
    "    else:\n",
    "        return X\n",
    "\n",
    "\n",
    "# Test the function\n",
    "dname= 'SpokenArabicDigits'\n",
    "file_path = f'./datasets/{dname}/{dname}_TRAIN.ts'\n",
    "X, y = load_from_tsfile(file_path)\n",
    "print(X.shape, y.shape)\n",
    "\n"
   ]
  },
  {
   "cell_type": "code",
   "execution_count": 2,
   "metadata": {},
   "outputs": [
    {
     "name": "stdout",
     "output_type": "stream",
     "text": [
      "(1152, 180) (180,)\n"
     ]
    }
   ],
   "source": [
    "file_path = f'./datasets/{dname}/{dname}_TEST.ts'\n",
    "X_test, y_test = load_from_tsfile(file_path)\n",
    "print(X_test.shape, y_test.shape)"
   ]
  },
  {
   "cell_type": "code",
   "execution_count": 3,
   "metadata": {},
   "outputs": [],
   "source": [
    "X_train  = X.transpose()"
   ]
  },
  {
   "cell_type": "markdown",
   "metadata": {},
   "source": []
  },
  {
   "cell_type": "code",
   "execution_count": 4,
   "metadata": {},
   "outputs": [],
   "source": [
    "X_test = X_test.transpose()"
   ]
  },
  {
   "cell_type": "code",
   "execution_count": 5,
   "metadata": {},
   "outputs": [],
   "source": [
    "from sklearn.preprocessing import LabelEncoder\n",
    "\n",
    "# Initialize the LabelEncoder\n",
    "label_encoder = LabelEncoder()\n",
    "\n",
    "# Fit label encoder and return encoded labels\n",
    "y = label_encoder.fit_transform(y)\n",
    "y_test = label_encoder.fit_transform(y_test)\n"
   ]
  },
  {
   "cell_type": "code",
   "execution_count": 6,
   "metadata": {},
   "outputs": [
    {
     "data": {
      "text/plain": [
       "2"
      ]
     },
     "execution_count": 6,
     "metadata": {},
     "output_type": "execute_result"
    }
   ],
   "source": [
    "num_classes = len(np.unique(y_test))\n",
    "\n",
    "num_classes"
   ]
  },
  {
   "cell_type": "code",
   "execution_count": 7,
   "metadata": {},
   "outputs": [],
   "source": [
    "import lightgbm as lgb\n",
    "import optuna\n",
    "from sklearn.metrics import accuracy_score\n",
    "\n",
    "def objective(trial):\n",
    "    param = {\n",
    "        'objective': 'binary',  # or 'multiclass' for multi-class classification\n",
    "        'metric': 'binary_logloss',  # or 'multi_logloss' for multi-class classification\n",
    "\n",
    "        'verbosity': -1,\n",
    "        'boosting_type': 'gbdt',\n",
    "        'num_leaves': trial.suggest_int('num_leaves', 2, 256),\n",
    "        'learning_rate': trial.suggest_float('learning_rate', 1e-8, 1.0, log=True),\n",
    "        'n_estimators': trial.suggest_int('n_estimators', 10, 1000),\n",
    "    }\n",
    "\n",
    "    gbm = lgb.LGBMClassifier(**param)\n",
    "    gbm.fit(X_train, y)\n",
    "    preds = gbm.predict(X_test)\n",
    "    accuracy = accuracy_score(y_test, preds)\n",
    "    return accuracy\n",
    "\n"
   ]
  },
  {
   "cell_type": "code",
   "execution_count": 9,
   "metadata": {},
   "outputs": [
    {
     "name": "stderr",
     "output_type": "stream",
     "text": [
      "\u001b[32m[I 2024-02-08 17:43:26,999]\u001b[0m A new study created in memory with name: no-name-c68997f9-c8b2-4ce9-991b-c0a2a4458328\u001b[0m\n",
      "\u001b[32m[I 2024-02-08 17:43:27,513]\u001b[0m Trial 0 finished with value: 0.5 and parameters: {'num_leaves': 54, 'learning_rate': 1.3157065213985106e-05, 'n_estimators': 534}. Best is trial 0 with value: 0.5.\u001b[0m\n",
      "\u001b[32m[I 2024-02-08 17:43:27,793]\u001b[0m Trial 1 finished with value: 0.5 and parameters: {'num_leaves': 164, 'learning_rate': 0.00015296158230257645, 'n_estimators': 183}. Best is trial 0 with value: 0.5.\u001b[0m\n",
      "\u001b[32m[I 2024-02-08 17:43:28,407]\u001b[0m Trial 2 finished with value: 0.5 and parameters: {'num_leaves': 134, 'learning_rate': 0.00019220153394893278, 'n_estimators': 683}. Best is trial 0 with value: 0.5.\u001b[0m\n",
      "\u001b[32m[I 2024-02-08 17:43:29,105]\u001b[0m Trial 3 finished with value: 0.5 and parameters: {'num_leaves': 232, 'learning_rate': 1.1598897242196882e-08, 'n_estimators': 777}. Best is trial 0 with value: 0.5.\u001b[0m\n",
      "\u001b[32m[I 2024-02-08 17:43:29,286]\u001b[0m Trial 4 finished with value: 0.46111111111111114 and parameters: {'num_leaves': 249, 'learning_rate': 0.8483472967867005, 'n_estimators': 130}. Best is trial 0 with value: 0.5.\u001b[0m\n",
      "\u001b[32m[I 2024-02-08 17:43:29,758]\u001b[0m Trial 5 finished with value: 0.4777777777777778 and parameters: {'num_leaves': 165, 'learning_rate': 0.0005039085903445713, 'n_estimators': 570}. Best is trial 0 with value: 0.5.\u001b[0m\n",
      "\u001b[32m[I 2024-02-08 17:43:30,311]\u001b[0m Trial 6 finished with value: 0.5 and parameters: {'num_leaves': 23, 'learning_rate': 8.353298291751469e-05, 'n_estimators': 579}. Best is trial 0 with value: 0.5.\u001b[0m\n",
      "\u001b[32m[I 2024-02-08 17:43:31,160]\u001b[0m Trial 7 finished with value: 0.4888888888888889 and parameters: {'num_leaves': 54, 'learning_rate': 0.023765984402267074, 'n_estimators': 886}. Best is trial 0 with value: 0.5.\u001b[0m\n",
      "\u001b[32m[I 2024-02-08 17:43:31,609]\u001b[0m Trial 8 finished with value: 0.5 and parameters: {'num_leaves': 24, 'learning_rate': 0.010063328931588785, 'n_estimators': 452}. Best is trial 0 with value: 0.5.\u001b[0m\n",
      "\u001b[32m[I 2024-02-08 17:43:32,208]\u001b[0m Trial 9 finished with value: 0.5 and parameters: {'num_leaves': 186, 'learning_rate': 7.330992461134733e-08, 'n_estimators': 647}. Best is trial 0 with value: 0.5.\u001b[0m\n",
      "\u001b[32m[I 2024-02-08 17:43:32,520]\u001b[0m Trial 10 finished with value: 0.5 and parameters: {'num_leaves': 81, 'learning_rate': 6.247335104009716e-07, 'n_estimators': 365}. Best is trial 0 with value: 0.5.\u001b[0m\n",
      "\u001b[32m[I 2024-02-08 17:43:32,639]\u001b[0m Trial 11 finished with value: 0.5 and parameters: {'num_leaves': 105, 'learning_rate': 4.612091035815799e-06, 'n_estimators': 36}. Best is trial 0 with value: 0.5.\u001b[0m\n",
      "\u001b[32m[I 2024-02-08 17:43:33,007]\u001b[0m Trial 12 finished with value: 0.5 and parameters: {'num_leaves': 145, 'learning_rate': 9.53291239224732e-06, 'n_estimators': 260}. Best is trial 0 with value: 0.5.\u001b[0m\n"
     ]
    }
   ],
   "source": [
    "\n",
    "study = optuna.create_study(direction='maximize')\n",
    "study.optimize(objective, n_trials=40)\n",
    "\n",
    "print('Number of finished trials:', len(study.trials))\n",
    "print('Best trial:', study.best_trial.params)\n",
    "\n"
   ]
  },
  {
   "cell_type": "code",
   "execution_count": null,
   "metadata": {},
   "outputs": [],
   "source": []
  }
 ],
 "metadata": {
  "kernelspec": {
   "display_name": "sd",
   "language": "python",
   "name": "python3"
  },
  "language_info": {
   "codemirror_mode": {
    "name": "ipython",
    "version": 3
   },
   "file_extension": ".py",
   "mimetype": "text/x-python",
   "name": "python",
   "nbconvert_exporter": "python",
   "pygments_lexer": "ipython3",
   "version": "3.10.13"
  }
 },
 "nbformat": 4,
 "nbformat_minor": 2
}
