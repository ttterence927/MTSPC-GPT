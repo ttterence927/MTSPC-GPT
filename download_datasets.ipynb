{
 "cells": [
  {
   "cell_type": "code",
   "execution_count": 3,
   "id": "d11d4c42-4809-4745-850c-8bc6bf45a8d4",
   "metadata": {
    "tags": []
   },
   "outputs": [
    {
     "name": "stderr",
     "output_type": "stream",
     "text": [
      "/home/studio-lab-user/.conda/envs/default/lib/python3.9/site-packages/urllib3/connectionpool.py:1095: InsecureRequestWarning: Unverified HTTPS request is being made to host 'www.timeseriesclassification.com'. Adding certificate verification is strongly advised. See: https://urllib3.readthedocs.io/en/latest/advanced-usage.html#tls-warnings\n",
      "  warnings.warn(\n"
     ]
    },
    {
     "name": "stdout",
     "output_type": "stream",
     "text": [
      "Downloaded SelfRegulationSCP2\n"
     ]
    }
   ],
   "source": [
    "import requests\n",
    "import os\n",
    "\n",
    "# List of UEA datasets to download\n",
    "datasets = ['SelfRegulationSCP2'\n",
    "    #'EthanolConcentration', 'FaceDetection', 'Handwriting', 'Heartbeat',\n",
    "    #'JapaneseVowels', 'PEMS-SF', 'SelfRegulationSCP1', 'SelfRegulationSCP2',\n",
    "    #'SpokenArabicDigits', 'UWaveGestureLibrary'\n",
    "]\n",
    "\n",
    "# Base URL for downloading the datasets\n",
    "base_url = \"https://www.timeseriesclassification.com/aeon-toolkit/\"\n",
    "\n",
    "# Create a directory for the downloaded datasets if it doesn't exist\n",
    "os.makedirs('datasets', exist_ok=True)\n",
    "\n",
    "# Download each dataset\n",
    "for dataset in datasets:\n",
    "    # Construct the URL for the dataset\n",
    "    dataset_url = f\"{base_url}{dataset}.zip\"\n",
    "    \n",
    "    # Make the request to download the dataset\n",
    "    response = requests.get(dataset_url, verify=False)\n",
    "    \n",
    "    # Check if the request was successful\n",
    "    if response.status_code == 200:\n",
    "        # Save the dataset to a file\n",
    "        filename = os.path.join('datasets', f\"{dataset}.zip\")\n",
    "        with open(filename, 'wb') as f:\n",
    "            f.write(response.content)\n",
    "        print(f\"Downloaded {dataset}\")\n",
    "    else:\n",
    "        print(f\"Failed to download {dataset}: Status code {response.status_code}\")\n",
    "\n",
    "# Note: This code assumes that the datasets are available at the given URL pattern.\n",
    "# If the URL pattern is incorrect, the downloads will fail.\n",
    "\n"
   ]
  },
  {
   "cell_type": "code",
   "execution_count": 4,
   "id": "75d72c59-0137-4965-9ad5-3ed390ff2c77",
   "metadata": {
    "tags": []
   },
   "outputs": [],
   "source": [
    "import os\n",
    "import zipfile\n",
    "\n",
    "# Specify the directory where the zip files are located\n",
    "folder = 'datasets'\n",
    "\n",
    "# Iterate over all files in the directory\n",
    "for filename in os.listdir(folder):\n",
    "    # Check if the file is a zip file\n",
    "    if filename.endswith('.zip'):\n",
    "        # Construct the full (absolute) path to the zip file\n",
    "        zip_path = os.path.join(folder, filename)\n",
    "        # Construct the directory name by stripping the .zip extension\n",
    "        extract_folder = os.path.join(folder, filename[:-4])\n",
    "        # Create a directory with the name of the zip file\n",
    "        os.makedirs(extract_folder, exist_ok=True)\n",
    "        # Create a ZipFile object\n",
    "        with zipfile.ZipFile(zip_path, 'r') as zip_ref:\n",
    "            # Extract all the contents of the zip file into the new directory\n",
    "            zip_ref.extractall(extract_folder)"
   ]
  },
  {
   "cell_type": "code",
   "execution_count": null,
   "id": "a2971407-e639-4195-a2d7-e5a0bf0c58ad",
   "metadata": {},
   "outputs": [],
   "source": []
  }
 ],
 "metadata": {
  "kernelspec": {
   "display_name": "default:Python",
   "language": "python",
   "name": "conda-env-default-py"
  },
  "language_info": {
   "codemirror_mode": {
    "name": "ipython",
    "version": 3
   },
   "file_extension": ".py",
   "mimetype": "text/x-python",
   "name": "python",
   "nbconvert_exporter": "python",
   "pygments_lexer": "ipython3",
   "version": "3.9.16"
  }
 },
 "nbformat": 4,
 "nbformat_minor": 5
}
