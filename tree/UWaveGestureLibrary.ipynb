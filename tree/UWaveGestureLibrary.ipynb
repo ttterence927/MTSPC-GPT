{
 "cells": [
  {
   "cell_type": "code",
   "execution_count": 1,
   "metadata": {},
   "outputs": [
    {
     "name": "stderr",
     "output_type": "stream",
     "text": [
      "C:\\Users\\ui572274\\AppData\\Roaming\\Python\\Python310\\site-packages\\dask\\dataframe\\_pyarrow_compat.py:23: UserWarning: You are using pyarrow version 10.0.1 which is known to be insecure. See https://www.cve.org/CVERecord?id=CVE-2023-47248 for further details. Please upgrade to pyarrow>=14.0.1 or install pyarrow-hotfix to patch your current version.\n",
      "  warnings.warn(\n"
     ]
    },
    {
     "name": "stdout",
     "output_type": "stream",
     "text": [
      "(315, 120) (120,)\n"
     ]
    }
   ],
   "source": [
    "from sktime.datasets import load_from_tsfile_to_dataframe\n",
    "import numpy as np\n",
    "import pandas as pd\n",
    "\n",
    "def load_from_tsfile(file_path, return_y=True):\n",
    "    X, y = load_from_tsfile_to_dataframe(file_path)\n",
    "    X = pd.DataFrame({i: pd.Series(x) for i, x in enumerate(X.iloc[:, 0])})\n",
    "    if return_y:\n",
    "        return X, y\n",
    "    else:\n",
    "        return X\n",
    "\n",
    "\n",
    "# Test the function\n",
    "dname= 'UWaveGestureLibrary'\n",
    "file_path = f'./datasets/{dname}/{dname}_TRAIN.ts'\n",
    "X, y = load_from_tsfile(file_path)\n",
    "print(X.shape, y.shape)\n",
    "\n"
   ]
  },
  {
   "cell_type": "code",
   "execution_count": 2,
   "metadata": {},
   "outputs": [
    {
     "name": "stdout",
     "output_type": "stream",
     "text": [
      "(315, 320) (320,)\n"
     ]
    }
   ],
   "source": [
    "file_path = f'./datasets/{dname}/{dname}_TEST.ts'\n",
    "X_test, y_test = load_from_tsfile(file_path)\n",
    "print(X_test.shape, y_test.shape)"
   ]
  },
  {
   "cell_type": "code",
   "execution_count": 3,
   "metadata": {},
   "outputs": [],
   "source": [
    "X_train  = X.transpose()"
   ]
  },
  {
   "cell_type": "markdown",
   "metadata": {},
   "source": []
  },
  {
   "cell_type": "code",
   "execution_count": 4,
   "metadata": {},
   "outputs": [],
   "source": [
    "X_test = X_test.transpose()"
   ]
  },
  {
   "cell_type": "code",
   "execution_count": 5,
   "metadata": {},
   "outputs": [],
   "source": [
    "from sklearn.preprocessing import LabelEncoder\n",
    "\n",
    "# Initialize the LabelEncoder\n",
    "label_encoder = LabelEncoder()\n",
    "\n",
    "# Fit label encoder and return encoded labels\n",
    "y = label_encoder.fit_transform(y)\n",
    "y_test = label_encoder.fit_transform(y_test)\n"
   ]
  },
  {
   "cell_type": "code",
   "execution_count": 6,
   "metadata": {},
   "outputs": [
    {
     "data": {
      "text/plain": [
       "8"
      ]
     },
     "execution_count": 6,
     "metadata": {},
     "output_type": "execute_result"
    }
   ],
   "source": [
    "num_classes = len(np.unique(y_test))\n",
    "\n",
    "num_classes"
   ]
  },
  {
   "cell_type": "code",
   "execution_count": 9,
   "metadata": {},
   "outputs": [],
   "source": [
    "import lightgbm as lgb\n",
    "import optuna\n",
    "from sklearn.metrics import accuracy_score\n",
    "\n",
    "def objective(trial):\n",
    "    param = {\n",
    "        'objective': 'multiclass',  # or 'multiclass' for multi-class classification\n",
    "        'metric': 'multi_logloss',  # or 'multi_logloss' for multi-class classification\n",
    "\n",
    "        'verbosity': -1,\n",
    "        'boosting_type': 'gbdt',\n",
    "        'num_leaves': trial.suggest_int('num_leaves', 2, 256),\n",
    "        'learning_rate': trial.suggest_float('learning_rate', 1e-8, 1.0, log=True),\n",
    "        'n_estimators': trial.suggest_int('n_estimators', 10, 1000),\n",
    "    }\n",
    "\n",
    "    gbm = lgb.LGBMClassifier(**param)\n",
    "    gbm.fit(X_train, y)\n",
    "    preds = gbm.predict(X_test)\n",
    "    accuracy = accuracy_score(y_test, preds)\n",
    "    return accuracy\n",
    "\n"
   ]
  },
  {
   "cell_type": "code",
   "execution_count": 10,
   "metadata": {},
   "outputs": [
    {
     "name": "stderr",
     "output_type": "stream",
     "text": [
      "\u001b[32m[I 2024-02-08 17:46:15,177]\u001b[0m A new study created in memory with name: no-name-04dda8a7-65e3-4f01-b6fe-35c6e8b84e19\u001b[0m\n",
      "\u001b[32m[I 2024-02-08 17:46:16,442]\u001b[0m Trial 0 finished with value: 0.63125 and parameters: {'num_leaves': 199, 'learning_rate': 0.06027856565946783, 'n_estimators': 729}. Best is trial 0 with value: 0.63125.\u001b[0m\n",
      "\u001b[32m[I 2024-02-08 17:46:16,905]\u001b[0m Trial 1 finished with value: 0.64375 and parameters: {'num_leaves': 93, 'learning_rate': 0.19268603623123576, 'n_estimators': 307}. Best is trial 1 with value: 0.64375.\u001b[0m\n",
      "\u001b[32m[I 2024-02-08 17:46:18,434]\u001b[0m Trial 2 finished with value: 0.5125 and parameters: {'num_leaves': 167, 'learning_rate': 0.001805712832684943, 'n_estimators': 472}. Best is trial 1 with value: 0.64375.\u001b[0m\n",
      "\u001b[32m[I 2024-02-08 17:46:22,089]\u001b[0m Trial 3 finished with value: 0.63125 and parameters: {'num_leaves': 167, 'learning_rate': 0.009710004103341044, 'n_estimators': 973}. Best is trial 1 with value: 0.64375.\u001b[0m\n",
      "\u001b[32m[I 2024-02-08 17:46:22,379]\u001b[0m Trial 4 finished with value: 0.38125 and parameters: {'num_leaves': 10, 'learning_rate': 2.625843596487313e-08, 'n_estimators': 63}. Best is trial 1 with value: 0.64375.\u001b[0m\n",
      "\u001b[32m[I 2024-02-08 17:46:24,016]\u001b[0m Trial 5 finished with value: 0.38125 and parameters: {'num_leaves': 202, 'learning_rate': 2.1665438778392604e-05, 'n_estimators': 506}. Best is trial 1 with value: 0.64375.\u001b[0m\n",
      "\u001b[32m[I 2024-02-08 17:46:24,285]\u001b[0m Trial 6 finished with value: 0.621875 and parameters: {'num_leaves': 128, 'learning_rate': 0.41909337552138415, 'n_estimators': 244}. Best is trial 1 with value: 0.64375.\u001b[0m\n",
      "\u001b[32m[I 2024-02-08 17:46:27,012]\u001b[0m Trial 7 finished with value: 0.38125 and parameters: {'num_leaves': 159, 'learning_rate': 2.626283752038306e-07, 'n_estimators': 917}. Best is trial 1 with value: 0.64375.\u001b[0m\n",
      "\u001b[32m[I 2024-02-08 17:46:27,097]\u001b[0m Trial 8 finished with value: 0.38125 and parameters: {'num_leaves': 136, 'learning_rate': 3.698882706201522e-08, 'n_estimators': 20}. Best is trial 1 with value: 0.64375.\u001b[0m\n",
      "\u001b[32m[I 2024-02-08 17:46:27,178]\u001b[0m Trial 9 finished with value: 0.38125 and parameters: {'num_leaves': 199, 'learning_rate': 7.230335501955338e-08, 'n_estimators': 17}. Best is trial 1 with value: 0.64375.\u001b[0m\n",
      "\u001b[32m[I 2024-02-08 17:46:28,133]\u001b[0m Trial 10 finished with value: 0.38125 and parameters: {'num_leaves': 69, 'learning_rate': 3.9205240092650434e-05, 'n_estimators': 322}. Best is trial 1 with value: 0.64375.\u001b[0m\n",
      "\u001b[32m[I 2024-02-08 17:46:28,604]\u001b[0m Trial 11 finished with value: 0.596875 and parameters: {'num_leaves': 244, 'learning_rate': 0.8969158337810352, 'n_estimators': 692}. Best is trial 1 with value: 0.64375.\u001b[0m\n",
      "\u001b[32m[I 2024-02-08 17:46:30,703]\u001b[0m Trial 12 finished with value: 0.646875 and parameters: {'num_leaves': 84, 'learning_rate': 0.022395971869661656, 'n_estimators': 733}. Best is trial 12 with value: 0.646875.\u001b[0m\n",
      "\u001b[32m[I 2024-02-08 17:46:32,733]\u001b[0m Trial 13 finished with value: 0.509375 and parameters: {'num_leaves': 84, 'learning_rate': 0.0013768336334898542, 'n_estimators': 699}. Best is trial 12 with value: 0.646875.\u001b[0m\n",
      "\u001b[32m[I 2024-02-08 17:46:33,686]\u001b[0m Trial 14 finished with value: 0.65 and parameters: {'num_leaves': 73, 'learning_rate': 0.058928014382759755, 'n_estimators': 483}. Best is trial 14 with value: 0.65.\u001b[0m\n",
      "\u001b[32m[I 2024-02-08 17:46:35,272]\u001b[0m Trial 15 finished with value: 0.634375 and parameters: {'num_leaves': 38, 'learning_rate': 0.02632056688787439, 'n_estimators': 589}. Best is trial 14 with value: 0.65.\u001b[0m\n",
      "\u001b[32m[I 2024-02-08 17:46:37,903]\u001b[0m Trial 16 finished with value: 0.45625 and parameters: {'num_leaves': 52, 'learning_rate': 0.0004641943444489275, 'n_estimators': 872}. Best is trial 14 with value: 0.65.\u001b[0m\n",
      "\u001b[32m[I 2024-02-08 17:46:40,546]\u001b[0m Trial 17 finished with value: 0.38125 and parameters: {'num_leaves': 112, 'learning_rate': 1.9612945966910405e-06, 'n_estimators': 817}. Best is trial 14 with value: 0.65.\u001b[0m\n",
      "\u001b[32m[I 2024-02-08 17:46:42,512]\u001b[0m Trial 18 finished with value: 0.6125 and parameters: {'num_leaves': 5, 'learning_rate': 0.01189444353998633, 'n_estimators': 453}. Best is trial 14 with value: 0.65.\u001b[0m\n",
      "\u001b[32m[I 2024-02-08 17:46:44,186]\u001b[0m Trial 19 finished with value: 0.40625 and parameters: {'num_leaves': 46, 'learning_rate': 0.0004212689627917956, 'n_estimators': 579}. Best is trial 14 with value: 0.65.\u001b[0m\n",
      "\u001b[32m[I 2024-02-08 17:46:45,269]\u001b[0m Trial 20 finished with value: 0.65 and parameters: {'num_leaves': 104, 'learning_rate': 0.07233514230972175, 'n_estimators': 782}. Best is trial 14 with value: 0.65.\u001b[0m\n",
      "\u001b[32m[I 2024-02-08 17:46:46,291]\u001b[0m Trial 21 finished with value: 0.640625 and parameters: {'num_leaves': 96, 'learning_rate': 0.08101554119277928, 'n_estimators': 788}. Best is trial 14 with value: 0.65.\u001b[0m\n",
      "\u001b[32m[I 2024-02-08 17:46:48,210]\u001b[0m Trial 22 finished with value: 0.590625 and parameters: {'num_leaves': 70, 'learning_rate': 0.00487004314852307, 'n_estimators': 620}. Best is trial 14 with value: 0.65.\u001b[0m\n",
      "\u001b[32m[I 2024-02-08 17:46:48,755]\u001b[0m Trial 23 finished with value: 0.659375 and parameters: {'num_leaves': 109, 'learning_rate': 0.13190839257935286, 'n_estimators': 399}. Best is trial 23 with value: 0.659375.\u001b[0m\n",
      "\u001b[32m[I 2024-02-08 17:46:49,483]\u001b[0m Trial 24 finished with value: 0.621875 and parameters: {'num_leaves': 121, 'learning_rate': 0.09338830209303396, 'n_estimators': 377}. Best is trial 23 with value: 0.659375.\u001b[0m\n",
      "\u001b[32m[I 2024-02-08 17:46:49,712]\u001b[0m Trial 25 finished with value: 0.609375 and parameters: {'num_leaves': 106, 'learning_rate': 0.5876570317272721, 'n_estimators': 235}. Best is trial 23 with value: 0.659375.\u001b[0m\n",
      "\u001b[32m[I 2024-02-08 17:46:50,236]\u001b[0m Trial 26 finished with value: 0.5125 and parameters: {'num_leaves': 147, 'learning_rate': 0.0034474401881377597, 'n_estimators': 160}. Best is trial 23 with value: 0.659375.\u001b[0m\n",
      "\u001b[32m[I 2024-02-08 17:46:51,700]\u001b[0m Trial 27 finished with value: 0.390625 and parameters: {'num_leaves': 72, 'learning_rate': 0.00021279078055710704, 'n_estimators': 504}. Best is trial 23 with value: 0.659375.\u001b[0m\n",
      "\u001b[32m[I 2024-02-08 17:46:52,220]\u001b[0m Trial 28 finished with value: 0.640625 and parameters: {'num_leaves': 28, 'learning_rate': 0.17149302341825776, 'n_estimators': 437}. Best is trial 23 with value: 0.659375.\u001b[0m\n",
      "\u001b[32m[I 2024-02-08 17:46:53,303]\u001b[0m Trial 29 finished with value: 0.6375 and parameters: {'num_leaves': 57, 'learning_rate': 0.04517486976338158, 'n_estimators': 384}. Best is trial 23 with value: 0.659375.\u001b[0m\n",
      "\u001b[32m[I 2024-02-08 17:46:54,921]\u001b[0m Trial 30 finished with value: 0.38125 and parameters: {'num_leaves': 24, 'learning_rate': 4.022101642839856e-06, 'n_estimators': 548}. Best is trial 23 with value: 0.659375.\u001b[0m\n",
      "\u001b[32m[I 2024-02-08 17:46:57,263]\u001b[0m Trial 31 finished with value: 0.634375 and parameters: {'num_leaves': 84, 'learning_rate': 0.023528426218505795, 'n_estimators': 749}. Best is trial 23 with value: 0.659375.\u001b[0m\n",
      "\u001b[32m[I 2024-02-08 17:46:57,833]\u001b[0m Trial 32 finished with value: 0.625 and parameters: {'num_leaves': 104, 'learning_rate': 0.2507677508569396, 'n_estimators': 657}. Best is trial 23 with value: 0.659375.\u001b[0m\n",
      "\u001b[32m[I 2024-02-08 17:46:59,434]\u001b[0m Trial 33 finished with value: 0.640625 and parameters: {'num_leaves': 87, 'learning_rate': 0.04375270139970112, 'n_estimators': 811}. Best is trial 23 with value: 0.659375.\u001b[0m\n",
      "\u001b[32m[I 2024-02-08 17:47:00,853]\u001b[0m Trial 34 finished with value: 0.6 and parameters: {'num_leaves': 116, 'learning_rate': 0.008450363157794204, 'n_estimators': 402}. Best is trial 23 with value: 0.659375.\u001b[0m\n",
      "\u001b[32m[I 2024-02-08 17:47:03,494]\u001b[0m Trial 35 finished with value: 0.559375 and parameters: {'num_leaves': 140, 'learning_rate': 0.001734229135655708, 'n_estimators': 881}. Best is trial 23 with value: 0.659375.\u001b[0m\n",
      "\u001b[32m[I 2024-02-08 17:47:04,208]\u001b[0m Trial 36 finished with value: 0.64375 and parameters: {'num_leaves': 184, 'learning_rate': 0.12836159640023803, 'n_estimators': 640}. Best is trial 23 with value: 0.659375.\u001b[0m\n",
      "\u001b[32m[I 2024-02-08 17:47:05,960]\u001b[0m Trial 37 finished with value: 0.628125 and parameters: {'num_leaves': 63, 'learning_rate': 0.018896895735651602, 'n_estimators': 529}. Best is trial 23 with value: 0.659375.\u001b[0m\n",
      "\u001b[32m[I 2024-02-08 17:47:06,617]\u001b[0m Trial 38 finished with value: 0.628125 and parameters: {'num_leaves': 99, 'learning_rate': 0.34192503762913795, 'n_estimators': 970}. Best is trial 23 with value: 0.659375.\u001b[0m\n",
      "\u001b[32m[I 2024-02-08 17:47:06,861]\u001b[0m Trial 39 finished with value: 0.615625 and parameters: {'num_leaves': 153, 'learning_rate': 0.9111306669461776, 'n_estimators': 301}. Best is trial 23 with value: 0.659375.\u001b[0m\n"
     ]
    },
    {
     "name": "stdout",
     "output_type": "stream",
     "text": [
      "Number of finished trials: 40\n",
      "Best trial: {'num_leaves': 109, 'learning_rate': 0.13190839257935286, 'n_estimators': 399}\n"
     ]
    }
   ],
   "source": [
    "\n",
    "study = optuna.create_study(direction='maximize')\n",
    "study.optimize(objective, n_trials=40)\n",
    "\n",
    "print('Number of finished trials:', len(study.trials))\n",
    "print('Best trial:', study.best_trial.params)\n",
    "\n"
   ]
  },
  {
   "cell_type": "code",
   "execution_count": null,
   "metadata": {},
   "outputs": [],
   "source": []
  }
 ],
 "metadata": {
  "kernelspec": {
   "display_name": "sd",
   "language": "python",
   "name": "python3"
  },
  "language_info": {
   "codemirror_mode": {
    "name": "ipython",
    "version": 3
   },
   "file_extension": ".py",
   "mimetype": "text/x-python",
   "name": "python",
   "nbconvert_exporter": "python",
   "pygments_lexer": "ipython3",
   "version": "3.10.13"
  }
 },
 "nbformat": 4,
 "nbformat_minor": 2
}
